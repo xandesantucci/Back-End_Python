{
 "cells": [
  {
   "cell_type": "code",
   "execution_count": 1,
   "metadata": {},
   "outputs": [
    {
     "data": {
      "text/html": [
       "<div>\n",
       "<style scoped>\n",
       "    .dataframe tbody tr th:only-of-type {\n",
       "        vertical-align: middle;\n",
       "    }\n",
       "\n",
       "    .dataframe tbody tr th {\n",
       "        vertical-align: top;\n",
       "    }\n",
       "\n",
       "    .dataframe thead th {\n",
       "        text-align: right;\n",
       "    }\n",
       "</style>\n",
       "<table border=\"1\" class=\"dataframe\">\n",
       "  <thead>\n",
       "    <tr style=\"text-align: right;\">\n",
       "      <th></th>\n",
       "      <th>ID RH</th>\n",
       "      <th>Nome Completo</th>\n",
       "      <th>Estado Civil</th>\n",
       "      <th>Sexo</th>\n",
       "      <th>Data de Nascimento</th>\n",
       "      <th>Endereço</th>\n",
       "      <th>Data de Contratacao</th>\n",
       "      <th>Data de Demissao</th>\n",
       "      <th>Salario Base</th>\n",
       "      <th>Impostos</th>\n",
       "      <th>...</th>\n",
       "      <th>Área</th>\n",
       "      <th>Ferias Acumuladas</th>\n",
       "      <th>Horas Extras</th>\n",
       "      <th>Imagem</th>\n",
       "      <th>Avaliação do Funcionário</th>\n",
       "      <th>Trabalho em Equipe</th>\n",
       "      <th>Liderança</th>\n",
       "      <th>Comunicação</th>\n",
       "      <th>Iniciativa</th>\n",
       "      <th>Organização</th>\n",
       "    </tr>\n",
       "  </thead>\n",
       "  <tbody>\n",
       "    <tr>\n",
       "      <th>0</th>\n",
       "      <td>460</td>\n",
       "      <td>Adelino Araujo</td>\n",
       "      <td>C</td>\n",
       "      <td>M</td>\n",
       "      <td>1976-09-04</td>\n",
       "      <td>Shopping Barra - Av. Centenário, 2992 - Barra,...</td>\n",
       "      <td>2005-11-07</td>\n",
       "      <td>NaT</td>\n",
       "      <td>853</td>\n",
       "      <td>68.24</td>\n",
       "      <td>...</td>\n",
       "      <td>Operações</td>\n",
       "      <td>24</td>\n",
       "      <td>23</td>\n",
       "      <td>https://cdn.pixabay.com/photo/2019/05/24/10/59...</td>\n",
       "      <td>9.2</td>\n",
       "      <td>10</td>\n",
       "      <td>8</td>\n",
       "      <td>8</td>\n",
       "      <td>10</td>\n",
       "      <td>10</td>\n",
       "    </tr>\n",
       "    <tr>\n",
       "      <th>1</th>\n",
       "      <td>5</td>\n",
       "      <td>Adelino Gomes</td>\n",
       "      <td>C</td>\n",
       "      <td>M</td>\n",
       "      <td>1974-03-30</td>\n",
       "      <td>R. Dr. Antônio Castro Prado, 422 - Vila Rossi ...</td>\n",
       "      <td>2000-03-16</td>\n",
       "      <td>NaT</td>\n",
       "      <td>4450</td>\n",
       "      <td>280.80</td>\n",
       "      <td>...</td>\n",
       "      <td>Administrativo</td>\n",
       "      <td>9</td>\n",
       "      <td>121</td>\n",
       "      <td>https://dev.nu.edu.eg/wp-content/uploads/2015/...</td>\n",
       "      <td>9.6</td>\n",
       "      <td>10</td>\n",
       "      <td>10</td>\n",
       "      <td>8</td>\n",
       "      <td>10</td>\n",
       "      <td>10</td>\n",
       "    </tr>\n",
       "    <tr>\n",
       "      <th>2</th>\n",
       "      <td>195</td>\n",
       "      <td>Adelino Werneck</td>\n",
       "      <td>S</td>\n",
       "      <td>M</td>\n",
       "      <td>1997-04-27</td>\n",
       "      <td>Av. Borges de Medeiros, 3120 - Praia de Belas,...</td>\n",
       "      <td>2015-04-23</td>\n",
       "      <td>NaT</td>\n",
       "      <td>11566</td>\n",
       "      <td>753.90</td>\n",
       "      <td>...</td>\n",
       "      <td>Administrativo</td>\n",
       "      <td>47</td>\n",
       "      <td>123</td>\n",
       "      <td>https://www.sicpa.com/sites/default/files/imag...</td>\n",
       "      <td>9.6</td>\n",
       "      <td>10</td>\n",
       "      <td>8</td>\n",
       "      <td>10</td>\n",
       "      <td>10</td>\n",
       "      <td>10</td>\n",
       "    </tr>\n",
       "    <tr>\n",
       "      <th>3</th>\n",
       "      <td>102</td>\n",
       "      <td>Adriano de Souza</td>\n",
       "      <td>C</td>\n",
       "      <td>M</td>\n",
       "      <td>1993-12-09</td>\n",
       "      <td>R. Brasílio Itiberê, 3279 - Água Verde, Curiti...</td>\n",
       "      <td>2011-12-05</td>\n",
       "      <td>NaT</td>\n",
       "      <td>1459</td>\n",
       "      <td>87.54</td>\n",
       "      <td>...</td>\n",
       "      <td>Comercial</td>\n",
       "      <td>59</td>\n",
       "      <td>158</td>\n",
       "      <td>https://modernbenjamin.files.wordpress.com/201...</td>\n",
       "      <td>8.4</td>\n",
       "      <td>7</td>\n",
       "      <td>9</td>\n",
       "      <td>8</td>\n",
       "      <td>9</td>\n",
       "      <td>9</td>\n",
       "    </tr>\n",
       "    <tr>\n",
       "      <th>4</th>\n",
       "      <td>133</td>\n",
       "      <td>Adrielle Sá Rodrigues</td>\n",
       "      <td>S</td>\n",
       "      <td>F</td>\n",
       "      <td>1976-11-16</td>\n",
       "      <td>R. Dr. Antônio Castro Prado, 422 - Vila Rossi ...</td>\n",
       "      <td>2001-04-25</td>\n",
       "      <td>NaT</td>\n",
       "      <td>10592</td>\n",
       "      <td>804.10</td>\n",
       "      <td>...</td>\n",
       "      <td>Logística</td>\n",
       "      <td>18</td>\n",
       "      <td>147</td>\n",
       "      <td>https://www.thebusinesswomanmedia.com/wp-conte...</td>\n",
       "      <td>9.2</td>\n",
       "      <td>8</td>\n",
       "      <td>10</td>\n",
       "      <td>8</td>\n",
       "      <td>10</td>\n",
       "      <td>10</td>\n",
       "    </tr>\n",
       "    <tr>\n",
       "      <th>...</th>\n",
       "      <td>...</td>\n",
       "      <td>...</td>\n",
       "      <td>...</td>\n",
       "      <td>...</td>\n",
       "      <td>...</td>\n",
       "      <td>...</td>\n",
       "      <td>...</td>\n",
       "      <td>...</td>\n",
       "      <td>...</td>\n",
       "      <td>...</td>\n",
       "      <td>...</td>\n",
       "      <td>...</td>\n",
       "      <td>...</td>\n",
       "      <td>...</td>\n",
       "      <td>...</td>\n",
       "      <td>...</td>\n",
       "      <td>...</td>\n",
       "      <td>...</td>\n",
       "      <td>...</td>\n",
       "      <td>...</td>\n",
       "      <td>...</td>\n",
       "    </tr>\n",
       "    <tr>\n",
       "      <th>489</th>\n",
       "      <td>163</td>\n",
       "      <td>Yasmini de Almeida Richa</td>\n",
       "      <td>S</td>\n",
       "      <td>F</td>\n",
       "      <td>1979-02-25</td>\n",
       "      <td>Av. Barão Homem de Melo, 1389 - Nova Granada, ...</td>\n",
       "      <td>2013-08-07</td>\n",
       "      <td>NaT</td>\n",
       "      <td>12466</td>\n",
       "      <td>1048.50</td>\n",
       "      <td>...</td>\n",
       "      <td>Logística</td>\n",
       "      <td>20</td>\n",
       "      <td>175</td>\n",
       "      <td>NaN</td>\n",
       "      <td>8.8</td>\n",
       "      <td>10</td>\n",
       "      <td>10</td>\n",
       "      <td>8</td>\n",
       "      <td>10</td>\n",
       "      <td>6</td>\n",
       "    </tr>\n",
       "    <tr>\n",
       "      <th>490</th>\n",
       "      <td>411</td>\n",
       "      <td>Yuri Cruz</td>\n",
       "      <td>S</td>\n",
       "      <td>M</td>\n",
       "      <td>1982-06-23</td>\n",
       "      <td>Av. Barão Homem de Melo, 1389 - Nova Granada, ...</td>\n",
       "      <td>2000-09-20</td>\n",
       "      <td>NaT</td>\n",
       "      <td>21414</td>\n",
       "      <td>1677.76</td>\n",
       "      <td>...</td>\n",
       "      <td>Comercial</td>\n",
       "      <td>16</td>\n",
       "      <td>111</td>\n",
       "      <td>https://photography.hiilite.com/wp-content/upl...</td>\n",
       "      <td>8.0</td>\n",
       "      <td>10</td>\n",
       "      <td>10</td>\n",
       "      <td>5</td>\n",
       "      <td>9</td>\n",
       "      <td>6</td>\n",
       "    </tr>\n",
       "    <tr>\n",
       "      <th>491</th>\n",
       "      <td>309</td>\n",
       "      <td>Yuri Valerio Albino</td>\n",
       "      <td>C</td>\n",
       "      <td>M</td>\n",
       "      <td>1977-09-06</td>\n",
       "      <td>R. Dr. Antônio Castro Prado, 422 - Vila Rossi ...</td>\n",
       "      <td>2008-08-30</td>\n",
       "      <td>NaT</td>\n",
       "      <td>14194</td>\n",
       "      <td>805.86</td>\n",
       "      <td>...</td>\n",
       "      <td>Financeiro</td>\n",
       "      <td>16</td>\n",
       "      <td>60</td>\n",
       "      <td>NaN</td>\n",
       "      <td>6.4</td>\n",
       "      <td>7</td>\n",
       "      <td>3</td>\n",
       "      <td>4</td>\n",
       "      <td>9</td>\n",
       "      <td>9</td>\n",
       "    </tr>\n",
       "    <tr>\n",
       "      <th>492</th>\n",
       "      <td>501</td>\n",
       "      <td>Yuri Vasconcelos</td>\n",
       "      <td>S</td>\n",
       "      <td>M</td>\n",
       "      <td>1984-11-08</td>\n",
       "      <td>R. Brasílio Itiberê, 3279 - Água Verde, Curiti...</td>\n",
       "      <td>2002-11-04</td>\n",
       "      <td>2009-05-05</td>\n",
       "      <td>4742</td>\n",
       "      <td>276.50</td>\n",
       "      <td>...</td>\n",
       "      <td>Administrativo</td>\n",
       "      <td>26</td>\n",
       "      <td>99</td>\n",
       "      <td>NaN</td>\n",
       "      <td>8.0</td>\n",
       "      <td>10</td>\n",
       "      <td>8</td>\n",
       "      <td>7</td>\n",
       "      <td>10</td>\n",
       "      <td>5</td>\n",
       "    </tr>\n",
       "    <tr>\n",
       "      <th>493</th>\n",
       "      <td>432</td>\n",
       "      <td>Yuske Orichio</td>\n",
       "      <td>C</td>\n",
       "      <td>M</td>\n",
       "      <td>1985-05-19</td>\n",
       "      <td>Av. Dom Luís, 500 - Aldeota, Fortaleza - CE, 6...</td>\n",
       "      <td>2005-11-20</td>\n",
       "      <td>NaT</td>\n",
       "      <td>1852</td>\n",
       "      <td>129.64</td>\n",
       "      <td>...</td>\n",
       "      <td>Logística</td>\n",
       "      <td>7</td>\n",
       "      <td>88</td>\n",
       "      <td>NaN</td>\n",
       "      <td>8.6</td>\n",
       "      <td>8</td>\n",
       "      <td>10</td>\n",
       "      <td>9</td>\n",
       "      <td>10</td>\n",
       "      <td>6</td>\n",
       "    </tr>\n",
       "  </tbody>\n",
       "</table>\n",
       "<p>494 rows × 25 columns</p>\n",
       "</div>"
      ],
      "text/plain": [
       "     ID RH             Nome Completo Estado Civil Sexo Data de Nascimento  \\\n",
       "0      460            Adelino Araujo            C    M         1976-09-04   \n",
       "1        5             Adelino Gomes            C    M         1974-03-30   \n",
       "2      195           Adelino Werneck            S    M         1997-04-27   \n",
       "3      102          Adriano de Souza            C    M         1993-12-09   \n",
       "4      133     Adrielle Sá Rodrigues            S    F         1976-11-16   \n",
       "..     ...                       ...          ...  ...                ...   \n",
       "489    163  Yasmini de Almeida Richa            S    F         1979-02-25   \n",
       "490    411                 Yuri Cruz            S    M         1982-06-23   \n",
       "491    309       Yuri Valerio Albino            C    M         1977-09-06   \n",
       "492    501          Yuri Vasconcelos            S    M         1984-11-08   \n",
       "493    432             Yuske Orichio            C    M         1985-05-19   \n",
       "\n",
       "                                              Endereço Data de Contratacao  \\\n",
       "0    Shopping Barra - Av. Centenário, 2992 - Barra,...          2005-11-07   \n",
       "1    R. Dr. Antônio Castro Prado, 422 - Vila Rossi ...          2000-03-16   \n",
       "2    Av. Borges de Medeiros, 3120 - Praia de Belas,...          2015-04-23   \n",
       "3    R. Brasílio Itiberê, 3279 - Água Verde, Curiti...          2011-12-05   \n",
       "4    R. Dr. Antônio Castro Prado, 422 - Vila Rossi ...          2001-04-25   \n",
       "..                                                 ...                 ...   \n",
       "489  Av. Barão Homem de Melo, 1389 - Nova Granada, ...          2013-08-07   \n",
       "490  Av. Barão Homem de Melo, 1389 - Nova Granada, ...          2000-09-20   \n",
       "491  R. Dr. Antônio Castro Prado, 422 - Vila Rossi ...          2008-08-30   \n",
       "492  R. Brasílio Itiberê, 3279 - Água Verde, Curiti...          2002-11-04   \n",
       "493  Av. Dom Luís, 500 - Aldeota, Fortaleza - CE, 6...          2005-11-20   \n",
       "\n",
       "    Data de Demissao  Salario Base  Impostos  ...            Área  \\\n",
       "0                NaT           853     68.24  ...       Operações   \n",
       "1                NaT          4450    280.80  ...  Administrativo   \n",
       "2                NaT         11566    753.90  ...  Administrativo   \n",
       "3                NaT          1459     87.54  ...       Comercial   \n",
       "4                NaT         10592    804.10  ...       Logística   \n",
       "..               ...           ...       ...  ...             ...   \n",
       "489              NaT         12466   1048.50  ...       Logística   \n",
       "490              NaT         21414   1677.76  ...       Comercial   \n",
       "491              NaT         14194    805.86  ...      Financeiro   \n",
       "492       2009-05-05          4742    276.50  ...  Administrativo   \n",
       "493              NaT          1852    129.64  ...       Logística   \n",
       "\n",
       "     Ferias Acumuladas  Horas Extras  \\\n",
       "0                   24            23   \n",
       "1                    9           121   \n",
       "2                   47           123   \n",
       "3                   59           158   \n",
       "4                   18           147   \n",
       "..                 ...           ...   \n",
       "489                 20           175   \n",
       "490                 16           111   \n",
       "491                 16            60   \n",
       "492                 26            99   \n",
       "493                  7            88   \n",
       "\n",
       "                                                Imagem  \\\n",
       "0    https://cdn.pixabay.com/photo/2019/05/24/10/59...   \n",
       "1    https://dev.nu.edu.eg/wp-content/uploads/2015/...   \n",
       "2    https://www.sicpa.com/sites/default/files/imag...   \n",
       "3    https://modernbenjamin.files.wordpress.com/201...   \n",
       "4    https://www.thebusinesswomanmedia.com/wp-conte...   \n",
       "..                                                 ...   \n",
       "489                                                NaN   \n",
       "490  https://photography.hiilite.com/wp-content/upl...   \n",
       "491                                                NaN   \n",
       "492                                                NaN   \n",
       "493                                                NaN   \n",
       "\n",
       "    Avaliação do Funcionário Trabalho em Equipe  Liderança  Comunicação  \\\n",
       "0                        9.2                 10          8            8   \n",
       "1                        9.6                 10         10            8   \n",
       "2                        9.6                 10          8           10   \n",
       "3                        8.4                  7          9            8   \n",
       "4                        9.2                  8         10            8   \n",
       "..                       ...                ...        ...          ...   \n",
       "489                      8.8                 10         10            8   \n",
       "490                      8.0                 10         10            5   \n",
       "491                      6.4                  7          3            4   \n",
       "492                      8.0                 10          8            7   \n",
       "493                      8.6                  8         10            9   \n",
       "\n",
       "    Iniciativa  Organização  \n",
       "0           10           10  \n",
       "1           10           10  \n",
       "2           10           10  \n",
       "3            9            9  \n",
       "4           10           10  \n",
       "..         ...          ...  \n",
       "489         10            6  \n",
       "490          9            6  \n",
       "491          9            9  \n",
       "492         10            5  \n",
       "493         10            6  \n",
       "\n",
       "[494 rows x 25 columns]"
      ]
     },
     "metadata": {},
     "output_type": "display_data"
    }
   ],
   "source": [
    "# pip install pandas\n",
    "# pip install openpyxl\n",
    "# pip install plotly\n",
    "# pip install ipykernel\n",
    "# pip install dash\n",
    "import pandas as pd \n",
    "import numpy as np\n",
    "\n",
    "df = pd.read_excel('BaseFuncionarios.xlsx')\n",
    "# df.dtypes\n",
    "display(df)"
   ]
  },
  {
   "cell_type": "code",
   "execution_count": 2,
   "metadata": {},
   "outputs": [
    {
     "data": {
      "text/html": [
       "<div>\n",
       "<style scoped>\n",
       "    .dataframe tbody tr th:only-of-type {\n",
       "        vertical-align: middle;\n",
       "    }\n",
       "\n",
       "    .dataframe tbody tr th {\n",
       "        vertical-align: top;\n",
       "    }\n",
       "\n",
       "    .dataframe thead th {\n",
       "        text-align: right;\n",
       "    }\n",
       "</style>\n",
       "<table border=\"1\" class=\"dataframe\">\n",
       "  <thead>\n",
       "    <tr style=\"text-align: right;\">\n",
       "      <th></th>\n",
       "      <th>Área</th>\n",
       "      <th>Média Salario</th>\n",
       "      <th>Média desempenho</th>\n",
       "      <th>Média trabalho em equipe</th>\n",
       "    </tr>\n",
       "  </thead>\n",
       "  <tbody>\n",
       "    <tr>\n",
       "      <th>3</th>\n",
       "      <td>Logística</td>\n",
       "      <td>7440.35</td>\n",
       "      <td>8.220513</td>\n",
       "      <td>7.5</td>\n",
       "    </tr>\n",
       "    <tr>\n",
       "      <th>1</th>\n",
       "      <td>Comercial</td>\n",
       "      <td>7152.28</td>\n",
       "      <td>8.358763</td>\n",
       "      <td>7.8</td>\n",
       "    </tr>\n",
       "    <tr>\n",
       "      <th>2</th>\n",
       "      <td>Financeiro</td>\n",
       "      <td>7081.00</td>\n",
       "      <td>8.056338</td>\n",
       "      <td>7.2</td>\n",
       "    </tr>\n",
       "    <tr>\n",
       "      <th>0</th>\n",
       "      <td>Administrativo</td>\n",
       "      <td>6809.66</td>\n",
       "      <td>8.274468</td>\n",
       "      <td>7.5</td>\n",
       "    </tr>\n",
       "    <tr>\n",
       "      <th>4</th>\n",
       "      <td>Operações</td>\n",
       "      <td>6591.97</td>\n",
       "      <td>8.195652</td>\n",
       "      <td>7.5</td>\n",
       "    </tr>\n",
       "  </tbody>\n",
       "</table>\n",
       "</div>"
      ],
      "text/plain": [
       "             Área  Média Salario  Média desempenho  Média trabalho em equipe\n",
       "3       Logística        7440.35          8.220513                       7.5\n",
       "1       Comercial        7152.28          8.358763                       7.8\n",
       "2      Financeiro        7081.00          8.056338                       7.2\n",
       "0  Administrativo        6809.66          8.274468                       7.5\n",
       "4       Operações        6591.97          8.195652                       7.5"
      ]
     },
     "execution_count": 2,
     "metadata": {},
     "output_type": "execute_result"
    }
   ],
   "source": [
    "df_area_avaliacao = df.fillna({'Data de Demissao':'efetivo'})\n",
    "df_area_avaliacao = df_area_avaliacao[(df_area_avaliacao['Data de Demissao']=='efetivo')]\n",
    "df_area_avaliacao = df_area_avaliacao.groupby(['Área']).agg({'ID RH':'count','Avaliação do Funcionário':'sum','Trabalho em Equipe':'sum','Salario Base':'sum'}).reset_index().rename(columns={'ID RH':'Total funcionarios'}).rename(columns={'Avaliação do Funcionário':'Desempenho'})\n",
    "df_area_avaliacao['Média desempenho'] = df_area_avaliacao['Desempenho']/df_area_avaliacao['Total funcionarios']\n",
    "df_area_avaliacao['Média trabalho em equipe'] = round(df_area_avaliacao['Trabalho em Equipe']/df_area_avaliacao['Total funcionarios'],1)\n",
    "df_area_avaliacao['Média Salario'] = round(df_area_avaliacao['Salario Base']/df_area_avaliacao['Total funcionarios'],2)\n",
    "df_area_avaliacao = df_area_avaliacao[['Área','Média Salario','Média desempenho','Média trabalho em equipe']].sort_values('Média Salario',ascending=False)\n",
    "df_area_avaliacao"
   ]
  },
  {
   "cell_type": "code",
   "execution_count": 3,
   "metadata": {},
   "outputs": [
    {
     "data": {
      "text/html": [
       "<div>\n",
       "<style scoped>\n",
       "    .dataframe tbody tr th:only-of-type {\n",
       "        vertical-align: middle;\n",
       "    }\n",
       "\n",
       "    .dataframe tbody tr th {\n",
       "        vertical-align: top;\n",
       "    }\n",
       "\n",
       "    .dataframe thead th {\n",
       "        text-align: right;\n",
       "    }\n",
       "</style>\n",
       "<table border=\"1\" class=\"dataframe\">\n",
       "  <thead>\n",
       "    <tr style=\"text-align: right;\">\n",
       "      <th></th>\n",
       "      <th>Cargo</th>\n",
       "      <th>Desempenho</th>\n",
       "      <th>Sexo</th>\n",
       "      <th>Média Salario</th>\n",
       "    </tr>\n",
       "  </thead>\n",
       "  <tbody>\n",
       "    <tr>\n",
       "      <th>64</th>\n",
       "      <td>FIV</td>\n",
       "      <td>2-Dentro</td>\n",
       "      <td>M</td>\n",
       "      <td>25452.0</td>\n",
       "    </tr>\n",
       "    <tr>\n",
       "      <th>84</th>\n",
       "      <td>LOV</td>\n",
       "      <td>1-Alto</td>\n",
       "      <td>F</td>\n",
       "      <td>25340.0</td>\n",
       "    </tr>\n",
       "    <tr>\n",
       "      <th>106</th>\n",
       "      <td>OPV</td>\n",
       "      <td>2-Dentro</td>\n",
       "      <td>M</td>\n",
       "      <td>23780.0</td>\n",
       "    </tr>\n",
       "    <tr>\n",
       "      <th>21</th>\n",
       "      <td>ADV</td>\n",
       "      <td>1-Alto</td>\n",
       "      <td>F</td>\n",
       "      <td>23423.0</td>\n",
       "    </tr>\n",
       "    <tr>\n",
       "      <th>42</th>\n",
       "      <td>COV</td>\n",
       "      <td>2-Dentro</td>\n",
       "      <td>M</td>\n",
       "      <td>21414.0</td>\n",
       "    </tr>\n",
       "    <tr>\n",
       "      <th>...</th>\n",
       "      <td>...</td>\n",
       "      <td>...</td>\n",
       "      <td>...</td>\n",
       "      <td>...</td>\n",
       "    </tr>\n",
       "    <tr>\n",
       "      <th>44</th>\n",
       "      <td>FII</td>\n",
       "      <td>1-Alto</td>\n",
       "      <td>M</td>\n",
       "      <td>1279.0</td>\n",
       "    </tr>\n",
       "    <tr>\n",
       "      <th>3</th>\n",
       "      <td>ADI</td>\n",
       "      <td>2-Dentro</td>\n",
       "      <td>M</td>\n",
       "      <td>1258.0</td>\n",
       "    </tr>\n",
       "    <tr>\n",
       "      <th>69</th>\n",
       "      <td>LOI</td>\n",
       "      <td>3-Abaixo</td>\n",
       "      <td>M</td>\n",
       "      <td>1108.0</td>\n",
       "    </tr>\n",
       "    <tr>\n",
       "      <th>68</th>\n",
       "      <td>LOI</td>\n",
       "      <td>3-Abaixo</td>\n",
       "      <td>F</td>\n",
       "      <td>959.0</td>\n",
       "    </tr>\n",
       "    <tr>\n",
       "      <th>85</th>\n",
       "      <td>OPI</td>\n",
       "      <td>1-Alto</td>\n",
       "      <td>F</td>\n",
       "      <td>801.0</td>\n",
       "    </tr>\n",
       "  </tbody>\n",
       "</table>\n",
       "<p>107 rows × 4 columns</p>\n",
       "</div>"
      ],
      "text/plain": [
       "    Cargo Desempenho Sexo  Média Salario\n",
       "64    FIV   2-Dentro    M        25452.0\n",
       "84    LOV     1-Alto    F        25340.0\n",
       "106   OPV   2-Dentro    M        23780.0\n",
       "21    ADV     1-Alto    F        23423.0\n",
       "42    COV   2-Dentro    M        21414.0\n",
       "..    ...        ...  ...            ...\n",
       "44    FII     1-Alto    M         1279.0\n",
       "3     ADI   2-Dentro    M         1258.0\n",
       "69    LOI   3-Abaixo    M         1108.0\n",
       "68    LOI   3-Abaixo    F          959.0\n",
       "85    OPI     1-Alto    F          801.0\n",
       "\n",
       "[107 rows x 4 columns]"
      ]
     },
     "execution_count": 3,
     "metadata": {},
     "output_type": "execute_result"
    }
   ],
   "source": [
    "df_cargo_avaliacao = df.fillna({'Data de Demissao':'efetivo'})\n",
    "df_cargo_avaliacao = df_cargo_avaliacao[(df_cargo_avaliacao['Data de Demissao']=='efetivo')]\n",
    "df_cargo_avaliacao['Desempenho'] = np.where(df_cargo_avaliacao['Avaliação do Funcionário']>=9,'1-Alto',np.where(df_cargo_avaliacao['Avaliação do Funcionário']>=7,'2-Dentro','3-Abaixo'))\n",
    "df_cargo_avaliacao['Desempenho'] = df_cargo_avaliacao['Desempenho'].astype('string')\n",
    "df_cargo_avaliacao = df_cargo_avaliacao.groupby(['Cargo','Desempenho','Sexo']).agg({'ID RH':'count','Salario Base':'sum'}).reset_index()\n",
    "df_cargo_avaliacao['Média Salario'] = round(df_cargo_avaliacao['Salario Base']/df_cargo_avaliacao['ID RH'],0)\n",
    "df_cargo_avaliacao = df_cargo_avaliacao[['Cargo','Desempenho','Sexo','Média Salario']].sort_values('Média Salario',ascending=False)\n",
    "df_cargo_avaliacao"
   ]
  },
  {
   "cell_type": "code",
   "execution_count": 4,
   "metadata": {},
   "outputs": [
    {
     "data": {
      "application/vnd.plotly.v1+json": {
       "config": {
        "plotlyServerURL": "https://plot.ly"
       },
       "data": [
        {
         "marker": {
          "color": "rgb(0,0,0)",
          "line": {
           "color": "rgb(0,102,0)",
           "width": 2
          }
         },
         "opacity": 0.8,
         "text": [
          7440.35,
          7152.28,
          7081,
          6809.66,
          6591.97
         ],
         "textposition": "outside",
         "type": "bar",
         "x": [
          "Logística",
          "Comercial",
          "Financeiro",
          "Administrativo",
          "Operações"
         ],
         "y": [
          7440.35,
          7152.28,
          7081,
          6809.66,
          6591.97
         ]
        }
       ],
       "layout": {
        "plot_bgcolor": "rgb(0,20,0)",
        "template": {
         "data": {
          "bar": [
           {
            "error_x": {
             "color": "#f2f5fa"
            },
            "error_y": {
             "color": "#f2f5fa"
            },
            "marker": {
             "line": {
              "color": "rgb(17,17,17)",
              "width": 0.5
             },
             "pattern": {
              "fillmode": "overlay",
              "size": 10,
              "solidity": 0.2
             }
            },
            "type": "bar"
           }
          ],
          "barpolar": [
           {
            "marker": {
             "line": {
              "color": "rgb(17,17,17)",
              "width": 0.5
             },
             "pattern": {
              "fillmode": "overlay",
              "size": 10,
              "solidity": 0.2
             }
            },
            "type": "barpolar"
           }
          ],
          "carpet": [
           {
            "aaxis": {
             "endlinecolor": "#A2B1C6",
             "gridcolor": "#506784",
             "linecolor": "#506784",
             "minorgridcolor": "#506784",
             "startlinecolor": "#A2B1C6"
            },
            "baxis": {
             "endlinecolor": "#A2B1C6",
             "gridcolor": "#506784",
             "linecolor": "#506784",
             "minorgridcolor": "#506784",
             "startlinecolor": "#A2B1C6"
            },
            "type": "carpet"
           }
          ],
          "choropleth": [
           {
            "colorbar": {
             "outlinewidth": 0,
             "ticks": ""
            },
            "type": "choropleth"
           }
          ],
          "contour": [
           {
            "colorbar": {
             "outlinewidth": 0,
             "ticks": ""
            },
            "colorscale": [
             [
              0,
              "#0d0887"
             ],
             [
              0.1111111111111111,
              "#46039f"
             ],
             [
              0.2222222222222222,
              "#7201a8"
             ],
             [
              0.3333333333333333,
              "#9c179e"
             ],
             [
              0.4444444444444444,
              "#bd3786"
             ],
             [
              0.5555555555555556,
              "#d8576b"
             ],
             [
              0.6666666666666666,
              "#ed7953"
             ],
             [
              0.7777777777777778,
              "#fb9f3a"
             ],
             [
              0.8888888888888888,
              "#fdca26"
             ],
             [
              1,
              "#f0f921"
             ]
            ],
            "type": "contour"
           }
          ],
          "contourcarpet": [
           {
            "colorbar": {
             "outlinewidth": 0,
             "ticks": ""
            },
            "type": "contourcarpet"
           }
          ],
          "heatmap": [
           {
            "colorbar": {
             "outlinewidth": 0,
             "ticks": ""
            },
            "colorscale": [
             [
              0,
              "#0d0887"
             ],
             [
              0.1111111111111111,
              "#46039f"
             ],
             [
              0.2222222222222222,
              "#7201a8"
             ],
             [
              0.3333333333333333,
              "#9c179e"
             ],
             [
              0.4444444444444444,
              "#bd3786"
             ],
             [
              0.5555555555555556,
              "#d8576b"
             ],
             [
              0.6666666666666666,
              "#ed7953"
             ],
             [
              0.7777777777777778,
              "#fb9f3a"
             ],
             [
              0.8888888888888888,
              "#fdca26"
             ],
             [
              1,
              "#f0f921"
             ]
            ],
            "type": "heatmap"
           }
          ],
          "heatmapgl": [
           {
            "colorbar": {
             "outlinewidth": 0,
             "ticks": ""
            },
            "colorscale": [
             [
              0,
              "#0d0887"
             ],
             [
              0.1111111111111111,
              "#46039f"
             ],
             [
              0.2222222222222222,
              "#7201a8"
             ],
             [
              0.3333333333333333,
              "#9c179e"
             ],
             [
              0.4444444444444444,
              "#bd3786"
             ],
             [
              0.5555555555555556,
              "#d8576b"
             ],
             [
              0.6666666666666666,
              "#ed7953"
             ],
             [
              0.7777777777777778,
              "#fb9f3a"
             ],
             [
              0.8888888888888888,
              "#fdca26"
             ],
             [
              1,
              "#f0f921"
             ]
            ],
            "type": "heatmapgl"
           }
          ],
          "histogram": [
           {
            "marker": {
             "pattern": {
              "fillmode": "overlay",
              "size": 10,
              "solidity": 0.2
             }
            },
            "type": "histogram"
           }
          ],
          "histogram2d": [
           {
            "colorbar": {
             "outlinewidth": 0,
             "ticks": ""
            },
            "colorscale": [
             [
              0,
              "#0d0887"
             ],
             [
              0.1111111111111111,
              "#46039f"
             ],
             [
              0.2222222222222222,
              "#7201a8"
             ],
             [
              0.3333333333333333,
              "#9c179e"
             ],
             [
              0.4444444444444444,
              "#bd3786"
             ],
             [
              0.5555555555555556,
              "#d8576b"
             ],
             [
              0.6666666666666666,
              "#ed7953"
             ],
             [
              0.7777777777777778,
              "#fb9f3a"
             ],
             [
              0.8888888888888888,
              "#fdca26"
             ],
             [
              1,
              "#f0f921"
             ]
            ],
            "type": "histogram2d"
           }
          ],
          "histogram2dcontour": [
           {
            "colorbar": {
             "outlinewidth": 0,
             "ticks": ""
            },
            "colorscale": [
             [
              0,
              "#0d0887"
             ],
             [
              0.1111111111111111,
              "#46039f"
             ],
             [
              0.2222222222222222,
              "#7201a8"
             ],
             [
              0.3333333333333333,
              "#9c179e"
             ],
             [
              0.4444444444444444,
              "#bd3786"
             ],
             [
              0.5555555555555556,
              "#d8576b"
             ],
             [
              0.6666666666666666,
              "#ed7953"
             ],
             [
              0.7777777777777778,
              "#fb9f3a"
             ],
             [
              0.8888888888888888,
              "#fdca26"
             ],
             [
              1,
              "#f0f921"
             ]
            ],
            "type": "histogram2dcontour"
           }
          ],
          "mesh3d": [
           {
            "colorbar": {
             "outlinewidth": 0,
             "ticks": ""
            },
            "type": "mesh3d"
           }
          ],
          "parcoords": [
           {
            "line": {
             "colorbar": {
              "outlinewidth": 0,
              "ticks": ""
             }
            },
            "type": "parcoords"
           }
          ],
          "pie": [
           {
            "automargin": true,
            "type": "pie"
           }
          ],
          "scatter": [
           {
            "marker": {
             "line": {
              "color": "#283442"
             }
            },
            "type": "scatter"
           }
          ],
          "scatter3d": [
           {
            "line": {
             "colorbar": {
              "outlinewidth": 0,
              "ticks": ""
             }
            },
            "marker": {
             "colorbar": {
              "outlinewidth": 0,
              "ticks": ""
             }
            },
            "type": "scatter3d"
           }
          ],
          "scattercarpet": [
           {
            "marker": {
             "colorbar": {
              "outlinewidth": 0,
              "ticks": ""
             }
            },
            "type": "scattercarpet"
           }
          ],
          "scattergeo": [
           {
            "marker": {
             "colorbar": {
              "outlinewidth": 0,
              "ticks": ""
             }
            },
            "type": "scattergeo"
           }
          ],
          "scattergl": [
           {
            "marker": {
             "line": {
              "color": "#283442"
             }
            },
            "type": "scattergl"
           }
          ],
          "scattermapbox": [
           {
            "marker": {
             "colorbar": {
              "outlinewidth": 0,
              "ticks": ""
             }
            },
            "type": "scattermapbox"
           }
          ],
          "scatterpolar": [
           {
            "marker": {
             "colorbar": {
              "outlinewidth": 0,
              "ticks": ""
             }
            },
            "type": "scatterpolar"
           }
          ],
          "scatterpolargl": [
           {
            "marker": {
             "colorbar": {
              "outlinewidth": 0,
              "ticks": ""
             }
            },
            "type": "scatterpolargl"
           }
          ],
          "scatterternary": [
           {
            "marker": {
             "colorbar": {
              "outlinewidth": 0,
              "ticks": ""
             }
            },
            "type": "scatterternary"
           }
          ],
          "surface": [
           {
            "colorbar": {
             "outlinewidth": 0,
             "ticks": ""
            },
            "colorscale": [
             [
              0,
              "#0d0887"
             ],
             [
              0.1111111111111111,
              "#46039f"
             ],
             [
              0.2222222222222222,
              "#7201a8"
             ],
             [
              0.3333333333333333,
              "#9c179e"
             ],
             [
              0.4444444444444444,
              "#bd3786"
             ],
             [
              0.5555555555555556,
              "#d8576b"
             ],
             [
              0.6666666666666666,
              "#ed7953"
             ],
             [
              0.7777777777777778,
              "#fb9f3a"
             ],
             [
              0.8888888888888888,
              "#fdca26"
             ],
             [
              1,
              "#f0f921"
             ]
            ],
            "type": "surface"
           }
          ],
          "table": [
           {
            "cells": {
             "fill": {
              "color": "#506784"
             },
             "line": {
              "color": "rgb(17,17,17)"
             }
            },
            "header": {
             "fill": {
              "color": "#2a3f5f"
             },
             "line": {
              "color": "rgb(17,17,17)"
             }
            },
            "type": "table"
           }
          ]
         },
         "layout": {
          "annotationdefaults": {
           "arrowcolor": "#f2f5fa",
           "arrowhead": 0,
           "arrowwidth": 1
          },
          "autotypenumbers": "strict",
          "coloraxis": {
           "colorbar": {
            "outlinewidth": 0,
            "ticks": ""
           }
          },
          "colorscale": {
           "diverging": [
            [
             0,
             "#8e0152"
            ],
            [
             0.1,
             "#c51b7d"
            ],
            [
             0.2,
             "#de77ae"
            ],
            [
             0.3,
             "#f1b6da"
            ],
            [
             0.4,
             "#fde0ef"
            ],
            [
             0.5,
             "#f7f7f7"
            ],
            [
             0.6,
             "#e6f5d0"
            ],
            [
             0.7,
             "#b8e186"
            ],
            [
             0.8,
             "#7fbc41"
            ],
            [
             0.9,
             "#4d9221"
            ],
            [
             1,
             "#276419"
            ]
           ],
           "sequential": [
            [
             0,
             "#0d0887"
            ],
            [
             0.1111111111111111,
             "#46039f"
            ],
            [
             0.2222222222222222,
             "#7201a8"
            ],
            [
             0.3333333333333333,
             "#9c179e"
            ],
            [
             0.4444444444444444,
             "#bd3786"
            ],
            [
             0.5555555555555556,
             "#d8576b"
            ],
            [
             0.6666666666666666,
             "#ed7953"
            ],
            [
             0.7777777777777778,
             "#fb9f3a"
            ],
            [
             0.8888888888888888,
             "#fdca26"
            ],
            [
             1,
             "#f0f921"
            ]
           ],
           "sequentialminus": [
            [
             0,
             "#0d0887"
            ],
            [
             0.1111111111111111,
             "#46039f"
            ],
            [
             0.2222222222222222,
             "#7201a8"
            ],
            [
             0.3333333333333333,
             "#9c179e"
            ],
            [
             0.4444444444444444,
             "#bd3786"
            ],
            [
             0.5555555555555556,
             "#d8576b"
            ],
            [
             0.6666666666666666,
             "#ed7953"
            ],
            [
             0.7777777777777778,
             "#fb9f3a"
            ],
            [
             0.8888888888888888,
             "#fdca26"
            ],
            [
             1,
             "#f0f921"
            ]
           ]
          },
          "colorway": [
           "#636efa",
           "#EF553B",
           "#00cc96",
           "#ab63fa",
           "#FFA15A",
           "#19d3f3",
           "#FF6692",
           "#B6E880",
           "#FF97FF",
           "#FECB52"
          ],
          "font": {
           "color": "#f2f5fa"
          },
          "geo": {
           "bgcolor": "rgb(17,17,17)",
           "lakecolor": "rgb(17,17,17)",
           "landcolor": "rgb(17,17,17)",
           "showlakes": true,
           "showland": true,
           "subunitcolor": "#506784"
          },
          "hoverlabel": {
           "align": "left"
          },
          "hovermode": "closest",
          "mapbox": {
           "style": "dark"
          },
          "paper_bgcolor": "rgb(17,17,17)",
          "plot_bgcolor": "rgb(17,17,17)",
          "polar": {
           "angularaxis": {
            "gridcolor": "#506784",
            "linecolor": "#506784",
            "ticks": ""
           },
           "bgcolor": "rgb(17,17,17)",
           "radialaxis": {
            "gridcolor": "#506784",
            "linecolor": "#506784",
            "ticks": ""
           }
          },
          "scene": {
           "xaxis": {
            "backgroundcolor": "rgb(17,17,17)",
            "gridcolor": "#506784",
            "gridwidth": 2,
            "linecolor": "#506784",
            "showbackground": true,
            "ticks": "",
            "zerolinecolor": "#C8D4E3"
           },
           "yaxis": {
            "backgroundcolor": "rgb(17,17,17)",
            "gridcolor": "#506784",
            "gridwidth": 2,
            "linecolor": "#506784",
            "showbackground": true,
            "ticks": "",
            "zerolinecolor": "#C8D4E3"
           },
           "zaxis": {
            "backgroundcolor": "rgb(17,17,17)",
            "gridcolor": "#506784",
            "gridwidth": 2,
            "linecolor": "#506784",
            "showbackground": true,
            "ticks": "",
            "zerolinecolor": "#C8D4E3"
           }
          },
          "shapedefaults": {
           "line": {
            "color": "#f2f5fa"
           }
          },
          "sliderdefaults": {
           "bgcolor": "#C8D4E3",
           "bordercolor": "rgb(17,17,17)",
           "borderwidth": 1,
           "tickwidth": 0
          },
          "ternary": {
           "aaxis": {
            "gridcolor": "#506784",
            "linecolor": "#506784",
            "ticks": ""
           },
           "baxis": {
            "gridcolor": "#506784",
            "linecolor": "#506784",
            "ticks": ""
           },
           "bgcolor": "rgb(17,17,17)",
           "caxis": {
            "gridcolor": "#506784",
            "linecolor": "#506784",
            "ticks": ""
           }
          },
          "title": {
           "x": 0.05
          },
          "updatemenudefaults": {
           "bgcolor": "#506784",
           "borderwidth": 0
          },
          "xaxis": {
           "automargin": true,
           "gridcolor": "#283442",
           "linecolor": "#506784",
           "ticks": "",
           "title": {
            "standoff": 15
           },
           "zerolinecolor": "#283442",
           "zerolinewidth": 2
          },
          "yaxis": {
           "automargin": true,
           "gridcolor": "#283442",
           "linecolor": "#506784",
           "ticks": "",
           "title": {
            "standoff": 15
           },
           "zerolinecolor": "#283442",
           "zerolinewidth": 2
          }
         }
        },
        "yaxis": {
         "range": [
          0,
          8184.385000000001
         ]
        }
       }
      }
     },
     "metadata": {},
     "output_type": "display_data"
    }
   ],
   "source": [
    "import plotly.graph_objects as go\n",
    "\n",
    "fig1 = go.Figure(go.Bar(x=df_area_avaliacao['Área'],y=df_area_avaliacao['Média Salario'],text=df_area_avaliacao['Média Salario'],textposition='outside'))\n",
    "valor_max_y = df_area_avaliacao['Média Salario'].max()*1.1\n",
    "fig1.update_layout(template='plotly_dark',plot_bgcolor='rgb(0,20,0)',yaxis_range=[0,valor_max_y])\n",
    "fig1.update_traces(marker_color='rgb(0,0,0)',marker_line_color='rgb(0,102,0)',marker_line_width=2,opacity=0.8)\n",
    "fig1.show()"
   ]
  },
  {
   "cell_type": "code",
   "execution_count": 5,
   "metadata": {},
   "outputs": [
    {
     "data": {
      "application/vnd.plotly.v1+json": {
       "config": {
        "plotlyServerURL": "https://plot.ly"
       },
       "data": [
        {
         "alignmentgroup": "True",
         "bingroup": "x",
         "histfunc": "sum",
         "hovertemplate": "Desempenho=1-Alto<br>Cargo=%{x}<br>sum of Média Salario=%{y}<extra></extra>",
         "legendgroup": "1-Alto",
         "marker": {
          "color": "blue",
          "line": {
           "color": "rgb(0,0,0)",
           "width": 2
          },
          "pattern": {
           "shape": ""
          }
         },
         "name": "1-Alto",
         "offsetgroup": "1-Alto",
         "opacity": 0.8,
         "orientation": "v",
         "showlegend": true,
         "texttemplate": "%{value}",
         "type": "histogram",
         "x": [
          "OPI",
          "LOIV",
          "FIIV",
          "COII",
          "OPIII",
          "FIII",
          "OPII",
          "FIIII",
          "OPIII",
          "ADIII",
          "LOII",
          "ADIII",
          "LOIII",
          "ADII",
          "OPII",
          "FIIII",
          "LOIII",
          "COIII",
          "ADII",
          "LOII",
          "COIV",
          "ADIV",
          "COII",
          "OPIV",
          "FII",
          "ADV",
          "ADI",
          "OPI",
          "COIV",
          "FII",
          "LOI",
          "LOIV",
          "LOV",
          "COI",
          "OPIV",
          "COI",
          "ADI"
         ],
         "xaxis": "x",
         "y": [
          801,
          13774,
          13040,
          7670,
          11816,
          5384,
          5637,
          11525,
          11511,
          11456,
          5970,
          11169,
          11135,
          6079,
          6262,
          10661,
          10618,
          10591,
          6963,
          6975,
          14255,
          14736,
          7372,
          16248,
          1323,
          23423,
          1360,
          1366,
          15740,
          1279,
          1390,
          16700,
          25340,
          1453,
          14896,
          1459,
          1461
         ],
         "yaxis": "y"
        },
        {
         "alignmentgroup": "True",
         "bingroup": "x",
         "histfunc": "sum",
         "hovertemplate": "Desempenho=2-Dentro<br>Cargo=%{x}<br>sum of Média Salario=%{y}<extra></extra>",
         "legendgroup": "2-Dentro",
         "marker": {
          "color": "green",
          "line": {
           "color": "rgb(0,0,0)",
           "width": 2
          },
          "pattern": {
           "shape": ""
          }
         },
         "name": "2-Dentro",
         "offsetgroup": "2-Dentro",
         "opacity": 0.8,
         "orientation": "v",
         "showlegend": true,
         "texttemplate": "%{value}",
         "type": "histogram",
         "x": [
          "LOII",
          "ADII",
          "COII",
          "ADII",
          "COII",
          "ADI",
          "FIII",
          "OPI",
          "OPII",
          "FII",
          "LOI",
          "OPI",
          "COI",
          "LOII",
          "FIII",
          "ADI",
          "COI",
          "LOI",
          "OPII",
          "FII",
          "FIV",
          "ADIV",
          "LOIII",
          "COIII",
          "OPIII",
          "ADIII",
          "FIIV",
          "ADIV",
          "LOIV",
          "FIIII",
          "ADIII",
          "FIIV",
          "LOIV",
          "LOIII",
          "COIV",
          "OPIV",
          "COV",
          "FIIII",
          "OPIII",
          "COIII",
          "OPV",
          "OPIV",
          "COIV"
         ],
         "xaxis": "x",
         "y": [
          7068,
          6447,
          6389,
          7198,
          6361,
          1258,
          6633,
          1465,
          6312,
          1291,
          1464,
          1348,
          1381,
          5931,
          5390,
          1395,
          1397,
          1505,
          6355,
          1597,
          25452,
          16110,
          11763,
          11692,
          11635,
          11624,
          15331,
          15468,
          14443,
          10846,
          10798,
          15157,
          16178,
          10551,
          14820,
          14806,
          21414,
          10392,
          10366,
          10350,
          23780,
          14946,
          15058
         ],
         "yaxis": "y"
        },
        {
         "alignmentgroup": "True",
         "bingroup": "x",
         "histfunc": "sum",
         "hovertemplate": "Desempenho=3-Abaixo<br>Cargo=%{x}<br>sum of Média Salario=%{y}<extra></extra>",
         "legendgroup": "3-Abaixo",
         "marker": {
          "color": "red",
          "line": {
           "color": "rgb(0,0,0)",
           "width": 2
          },
          "pattern": {
           "shape": ""
          }
         },
         "name": "3-Abaixo",
         "offsetgroup": "3-Abaixo",
         "opacity": 0.8,
         "orientation": "v",
         "showlegend": true,
         "texttemplate": "%{value}",
         "type": "histogram",
         "x": [
          "OPIV",
          "ADII",
          "FIIV",
          "ADIV",
          "LOI",
          "COIV",
          "COI",
          "COI",
          "OPI",
          "OPII",
          "LOI",
          "FIII",
          "OPII",
          "ADIII",
          "ADIII",
          "LOIII",
          "FIIV",
          "ADII",
          "FIIII",
          "FIII",
          "COII",
          "ADI",
          "LOII",
          "COIII",
          "FII",
          "FIIII",
          "OPIII"
         ],
         "xaxis": "x",
         "y": [
          14751,
          7324,
          16571,
          16612,
          1108,
          16205,
          1478,
          1694,
          1536,
          7684,
          959,
          6616,
          6554,
          10489,
          10600,
          10793,
          14194,
          6080,
          11304,
          4987,
          4844,
          1916,
          7429,
          12103,
          1549,
          10973,
          10328
         ],
         "yaxis": "y"
        }
       ],
       "layout": {
        "barmode": "group",
        "legend": {
         "title": {
          "text": "Desempenho"
         },
         "tracegroupgap": 0
        },
        "template": {
         "data": {
          "bar": [
           {
            "error_x": {
             "color": "#2a3f5f"
            },
            "error_y": {
             "color": "#2a3f5f"
            },
            "marker": {
             "line": {
              "color": "#E5ECF6",
              "width": 0.5
             },
             "pattern": {
              "fillmode": "overlay",
              "size": 10,
              "solidity": 0.2
             }
            },
            "type": "bar"
           }
          ],
          "barpolar": [
           {
            "marker": {
             "line": {
              "color": "#E5ECF6",
              "width": 0.5
             },
             "pattern": {
              "fillmode": "overlay",
              "size": 10,
              "solidity": 0.2
             }
            },
            "type": "barpolar"
           }
          ],
          "carpet": [
           {
            "aaxis": {
             "endlinecolor": "#2a3f5f",
             "gridcolor": "white",
             "linecolor": "white",
             "minorgridcolor": "white",
             "startlinecolor": "#2a3f5f"
            },
            "baxis": {
             "endlinecolor": "#2a3f5f",
             "gridcolor": "white",
             "linecolor": "white",
             "minorgridcolor": "white",
             "startlinecolor": "#2a3f5f"
            },
            "type": "carpet"
           }
          ],
          "choropleth": [
           {
            "colorbar": {
             "outlinewidth": 0,
             "ticks": ""
            },
            "type": "choropleth"
           }
          ],
          "contour": [
           {
            "colorbar": {
             "outlinewidth": 0,
             "ticks": ""
            },
            "colorscale": [
             [
              0,
              "#0d0887"
             ],
             [
              0.1111111111111111,
              "#46039f"
             ],
             [
              0.2222222222222222,
              "#7201a8"
             ],
             [
              0.3333333333333333,
              "#9c179e"
             ],
             [
              0.4444444444444444,
              "#bd3786"
             ],
             [
              0.5555555555555556,
              "#d8576b"
             ],
             [
              0.6666666666666666,
              "#ed7953"
             ],
             [
              0.7777777777777778,
              "#fb9f3a"
             ],
             [
              0.8888888888888888,
              "#fdca26"
             ],
             [
              1,
              "#f0f921"
             ]
            ],
            "type": "contour"
           }
          ],
          "contourcarpet": [
           {
            "colorbar": {
             "outlinewidth": 0,
             "ticks": ""
            },
            "type": "contourcarpet"
           }
          ],
          "heatmap": [
           {
            "colorbar": {
             "outlinewidth": 0,
             "ticks": ""
            },
            "colorscale": [
             [
              0,
              "#0d0887"
             ],
             [
              0.1111111111111111,
              "#46039f"
             ],
             [
              0.2222222222222222,
              "#7201a8"
             ],
             [
              0.3333333333333333,
              "#9c179e"
             ],
             [
              0.4444444444444444,
              "#bd3786"
             ],
             [
              0.5555555555555556,
              "#d8576b"
             ],
             [
              0.6666666666666666,
              "#ed7953"
             ],
             [
              0.7777777777777778,
              "#fb9f3a"
             ],
             [
              0.8888888888888888,
              "#fdca26"
             ],
             [
              1,
              "#f0f921"
             ]
            ],
            "type": "heatmap"
           }
          ],
          "heatmapgl": [
           {
            "colorbar": {
             "outlinewidth": 0,
             "ticks": ""
            },
            "colorscale": [
             [
              0,
              "#0d0887"
             ],
             [
              0.1111111111111111,
              "#46039f"
             ],
             [
              0.2222222222222222,
              "#7201a8"
             ],
             [
              0.3333333333333333,
              "#9c179e"
             ],
             [
              0.4444444444444444,
              "#bd3786"
             ],
             [
              0.5555555555555556,
              "#d8576b"
             ],
             [
              0.6666666666666666,
              "#ed7953"
             ],
             [
              0.7777777777777778,
              "#fb9f3a"
             ],
             [
              0.8888888888888888,
              "#fdca26"
             ],
             [
              1,
              "#f0f921"
             ]
            ],
            "type": "heatmapgl"
           }
          ],
          "histogram": [
           {
            "marker": {
             "pattern": {
              "fillmode": "overlay",
              "size": 10,
              "solidity": 0.2
             }
            },
            "type": "histogram"
           }
          ],
          "histogram2d": [
           {
            "colorbar": {
             "outlinewidth": 0,
             "ticks": ""
            },
            "colorscale": [
             [
              0,
              "#0d0887"
             ],
             [
              0.1111111111111111,
              "#46039f"
             ],
             [
              0.2222222222222222,
              "#7201a8"
             ],
             [
              0.3333333333333333,
              "#9c179e"
             ],
             [
              0.4444444444444444,
              "#bd3786"
             ],
             [
              0.5555555555555556,
              "#d8576b"
             ],
             [
              0.6666666666666666,
              "#ed7953"
             ],
             [
              0.7777777777777778,
              "#fb9f3a"
             ],
             [
              0.8888888888888888,
              "#fdca26"
             ],
             [
              1,
              "#f0f921"
             ]
            ],
            "type": "histogram2d"
           }
          ],
          "histogram2dcontour": [
           {
            "colorbar": {
             "outlinewidth": 0,
             "ticks": ""
            },
            "colorscale": [
             [
              0,
              "#0d0887"
             ],
             [
              0.1111111111111111,
              "#46039f"
             ],
             [
              0.2222222222222222,
              "#7201a8"
             ],
             [
              0.3333333333333333,
              "#9c179e"
             ],
             [
              0.4444444444444444,
              "#bd3786"
             ],
             [
              0.5555555555555556,
              "#d8576b"
             ],
             [
              0.6666666666666666,
              "#ed7953"
             ],
             [
              0.7777777777777778,
              "#fb9f3a"
             ],
             [
              0.8888888888888888,
              "#fdca26"
             ],
             [
              1,
              "#f0f921"
             ]
            ],
            "type": "histogram2dcontour"
           }
          ],
          "mesh3d": [
           {
            "colorbar": {
             "outlinewidth": 0,
             "ticks": ""
            },
            "type": "mesh3d"
           }
          ],
          "parcoords": [
           {
            "line": {
             "colorbar": {
              "outlinewidth": 0,
              "ticks": ""
             }
            },
            "type": "parcoords"
           }
          ],
          "pie": [
           {
            "automargin": true,
            "type": "pie"
           }
          ],
          "scatter": [
           {
            "fillpattern": {
             "fillmode": "overlay",
             "size": 10,
             "solidity": 0.2
            },
            "type": "scatter"
           }
          ],
          "scatter3d": [
           {
            "line": {
             "colorbar": {
              "outlinewidth": 0,
              "ticks": ""
             }
            },
            "marker": {
             "colorbar": {
              "outlinewidth": 0,
              "ticks": ""
             }
            },
            "type": "scatter3d"
           }
          ],
          "scattercarpet": [
           {
            "marker": {
             "colorbar": {
              "outlinewidth": 0,
              "ticks": ""
             }
            },
            "type": "scattercarpet"
           }
          ],
          "scattergeo": [
           {
            "marker": {
             "colorbar": {
              "outlinewidth": 0,
              "ticks": ""
             }
            },
            "type": "scattergeo"
           }
          ],
          "scattergl": [
           {
            "marker": {
             "colorbar": {
              "outlinewidth": 0,
              "ticks": ""
             }
            },
            "type": "scattergl"
           }
          ],
          "scattermapbox": [
           {
            "marker": {
             "colorbar": {
              "outlinewidth": 0,
              "ticks": ""
             }
            },
            "type": "scattermapbox"
           }
          ],
          "scatterpolar": [
           {
            "marker": {
             "colorbar": {
              "outlinewidth": 0,
              "ticks": ""
             }
            },
            "type": "scatterpolar"
           }
          ],
          "scatterpolargl": [
           {
            "marker": {
             "colorbar": {
              "outlinewidth": 0,
              "ticks": ""
             }
            },
            "type": "scatterpolargl"
           }
          ],
          "scatterternary": [
           {
            "marker": {
             "colorbar": {
              "outlinewidth": 0,
              "ticks": ""
             }
            },
            "type": "scatterternary"
           }
          ],
          "surface": [
           {
            "colorbar": {
             "outlinewidth": 0,
             "ticks": ""
            },
            "colorscale": [
             [
              0,
              "#0d0887"
             ],
             [
              0.1111111111111111,
              "#46039f"
             ],
             [
              0.2222222222222222,
              "#7201a8"
             ],
             [
              0.3333333333333333,
              "#9c179e"
             ],
             [
              0.4444444444444444,
              "#bd3786"
             ],
             [
              0.5555555555555556,
              "#d8576b"
             ],
             [
              0.6666666666666666,
              "#ed7953"
             ],
             [
              0.7777777777777778,
              "#fb9f3a"
             ],
             [
              0.8888888888888888,
              "#fdca26"
             ],
             [
              1,
              "#f0f921"
             ]
            ],
            "type": "surface"
           }
          ],
          "table": [
           {
            "cells": {
             "fill": {
              "color": "#EBF0F8"
             },
             "line": {
              "color": "white"
             }
            },
            "header": {
             "fill": {
              "color": "#C8D4E3"
             },
             "line": {
              "color": "white"
             }
            },
            "type": "table"
           }
          ]
         },
         "layout": {
          "annotationdefaults": {
           "arrowcolor": "#2a3f5f",
           "arrowhead": 0,
           "arrowwidth": 1
          },
          "autotypenumbers": "strict",
          "coloraxis": {
           "colorbar": {
            "outlinewidth": 0,
            "ticks": ""
           }
          },
          "colorscale": {
           "diverging": [
            [
             0,
             "#8e0152"
            ],
            [
             0.1,
             "#c51b7d"
            ],
            [
             0.2,
             "#de77ae"
            ],
            [
             0.3,
             "#f1b6da"
            ],
            [
             0.4,
             "#fde0ef"
            ],
            [
             0.5,
             "#f7f7f7"
            ],
            [
             0.6,
             "#e6f5d0"
            ],
            [
             0.7,
             "#b8e186"
            ],
            [
             0.8,
             "#7fbc41"
            ],
            [
             0.9,
             "#4d9221"
            ],
            [
             1,
             "#276419"
            ]
           ],
           "sequential": [
            [
             0,
             "#0d0887"
            ],
            [
             0.1111111111111111,
             "#46039f"
            ],
            [
             0.2222222222222222,
             "#7201a8"
            ],
            [
             0.3333333333333333,
             "#9c179e"
            ],
            [
             0.4444444444444444,
             "#bd3786"
            ],
            [
             0.5555555555555556,
             "#d8576b"
            ],
            [
             0.6666666666666666,
             "#ed7953"
            ],
            [
             0.7777777777777778,
             "#fb9f3a"
            ],
            [
             0.8888888888888888,
             "#fdca26"
            ],
            [
             1,
             "#f0f921"
            ]
           ],
           "sequentialminus": [
            [
             0,
             "#0d0887"
            ],
            [
             0.1111111111111111,
             "#46039f"
            ],
            [
             0.2222222222222222,
             "#7201a8"
            ],
            [
             0.3333333333333333,
             "#9c179e"
            ],
            [
             0.4444444444444444,
             "#bd3786"
            ],
            [
             0.5555555555555556,
             "#d8576b"
            ],
            [
             0.6666666666666666,
             "#ed7953"
            ],
            [
             0.7777777777777778,
             "#fb9f3a"
            ],
            [
             0.8888888888888888,
             "#fdca26"
            ],
            [
             1,
             "#f0f921"
            ]
           ]
          },
          "colorway": [
           "#636efa",
           "#EF553B",
           "#00cc96",
           "#ab63fa",
           "#FFA15A",
           "#19d3f3",
           "#FF6692",
           "#B6E880",
           "#FF97FF",
           "#FECB52"
          ],
          "font": {
           "color": "#2a3f5f"
          },
          "geo": {
           "bgcolor": "white",
           "lakecolor": "white",
           "landcolor": "#E5ECF6",
           "showlakes": true,
           "showland": true,
           "subunitcolor": "white"
          },
          "hoverlabel": {
           "align": "left"
          },
          "hovermode": "closest",
          "mapbox": {
           "style": "light"
          },
          "paper_bgcolor": "white",
          "plot_bgcolor": "#E5ECF6",
          "polar": {
           "angularaxis": {
            "gridcolor": "white",
            "linecolor": "white",
            "ticks": ""
           },
           "bgcolor": "#E5ECF6",
           "radialaxis": {
            "gridcolor": "white",
            "linecolor": "white",
            "ticks": ""
           }
          },
          "scene": {
           "xaxis": {
            "backgroundcolor": "#E5ECF6",
            "gridcolor": "white",
            "gridwidth": 2,
            "linecolor": "white",
            "showbackground": true,
            "ticks": "",
            "zerolinecolor": "white"
           },
           "yaxis": {
            "backgroundcolor": "#E5ECF6",
            "gridcolor": "white",
            "gridwidth": 2,
            "linecolor": "white",
            "showbackground": true,
            "ticks": "",
            "zerolinecolor": "white"
           },
           "zaxis": {
            "backgroundcolor": "#E5ECF6",
            "gridcolor": "white",
            "gridwidth": 2,
            "linecolor": "white",
            "showbackground": true,
            "ticks": "",
            "zerolinecolor": "white"
           }
          },
          "shapedefaults": {
           "line": {
            "color": "#2a3f5f"
           }
          },
          "ternary": {
           "aaxis": {
            "gridcolor": "white",
            "linecolor": "white",
            "ticks": ""
           },
           "baxis": {
            "gridcolor": "white",
            "linecolor": "white",
            "ticks": ""
           },
           "bgcolor": "#E5ECF6",
           "caxis": {
            "gridcolor": "white",
            "linecolor": "white",
            "ticks": ""
           }
          },
          "title": {
           "x": 0.05
          },
          "xaxis": {
           "automargin": true,
           "gridcolor": "white",
           "linecolor": "white",
           "ticks": "",
           "title": {
            "standoff": 15
           },
           "zerolinecolor": "white",
           "zerolinewidth": 2
          },
          "yaxis": {
           "automargin": true,
           "gridcolor": "white",
           "linecolor": "white",
           "ticks": "",
           "title": {
            "standoff": 15
           },
           "zerolinecolor": "white",
           "zerolinewidth": 2
          }
         }
        },
        "title": {
         "text": "Média salarial por desempenho"
        },
        "xaxis": {
         "anchor": "y",
         "domain": [
          0,
          1
         ],
         "title": {
          "text": "Cargo"
         }
        },
        "yaxis": {
         "anchor": "x",
         "domain": [
          0,
          1
         ],
         "title": {
          "text": "sum of Média Salario"
         }
        }
       }
      }
     },
     "metadata": {},
     "output_type": "display_data"
    }
   ],
   "source": [
    "import plotly.express as px\n",
    "\n",
    "fig2 = px.histogram(df_cargo_avaliacao.sort_values('Desempenho'),x='Cargo',y='Média Salario',title='Média salarial por desempenho',color='Desempenho',barmode='group',text_auto=True,color_discrete_map={'1-Alto':'blue','2-Dentro':'green','3-Abaixo':'red'})\n",
    "# valor_max_y = df_cargo_avaliacao['Média Salario'].max()*1.1\n",
    "fig2.update_traces(marker_line_color='rgb(0,0,0)',marker_line_width=2,opacity=0.8)\n",
    "fig2.show()"
   ]
  },
  {
   "cell_type": "code",
   "execution_count": 6,
   "metadata": {},
   "outputs": [
    {
     "data": {
      "text/html": [
       "\n",
       "        <iframe\n",
       "            width=\"100%\"\n",
       "            height=\"650\"\n",
       "            src=\"http://127.0.0.1:8050/\"\n",
       "            frameborder=\"0\"\n",
       "            allowfullscreen\n",
       "            \n",
       "        ></iframe>\n",
       "        "
      ],
      "text/plain": [
       "<IPython.lib.display.IFrame at 0x16bb04a3740>"
      ]
     },
     "metadata": {},
     "output_type": "display_data"
    }
   ],
   "source": [
    "from dash import Dash,html,dcc,Input,Output\n",
    "\n",
    "opcoes_filtro = list(df_cargo_avaliacao['Sexo'].unique())\n",
    "opcoes_filtro.append('Todos')\n",
    "\n",
    "app = Dash(__name__)\n",
    "\n",
    "app.layout = html.Div(children=[\n",
    "    html.H1(children='Balanço Executivo'),\n",
    "\n",
    "    html.Div(children='''\n",
    "        Sexo:   \n",
    "    '''),\n",
    "    html.Div(children='''\n",
    "  .\n",
    "    '''),\n",
    "    dcc.Dropdown(\n",
    "        opcoes_filtro,\n",
    "        value='Todos',\n",
    "        id='filtro_sexo'\n",
    "        \n",
    "    ),\n",
    "    html.Div([\n",
    "        html.Div([\n",
    "            html.H3('Column1'),\n",
    "            dcc.Graph(id='grafico_areas',figure=fig1)\n",
    "            ],className='column'),\n",
    "\n",
    "        html.Div([\n",
    "            html.H3('Column2'),\n",
    "            dcc.Graph(id='grafico_cargos',figure=fig2\n",
    "        )])\n",
    "        ])\n",
    "])\n",
    "\n",
    "@app.callback(\n",
    "    Output('grafico_cargos','figure'),\n",
    "    Input('filtro_sexo','value')\n",
    ")\n",
    "def update_outuput(value):\n",
    "\n",
    "    if value == 'Todos':\n",
    "        fig2 = px.histogram(df_cargo_avaliacao.sort_values('Desempenho'),x='Cargo',y='Média Salario',title='Média salarial por desempenho',color='Desempenho',barmode='group',text_auto=True,color_discrete_map={'1-Alto':'blue','2-Dentro':'green','3-Abaixo':'red'})\n",
    "        # valor_max_y = df_cargo_avaliacao['Média Salario'].max()*1.1\n",
    "        fig2.update_traces(marker_line_color='rgb(0,0,0)',marker_line_width=2,opacity=0.8)\n",
    "    else:\n",
    "        df_cargo_avaliacao_filtrada = df_cargo_avaliacao.loc[df_cargo_avaliacao['Sexo']==value,:]\n",
    "        fig2 = px.histogram(df_cargo_avaliacao_filtrada.sort_values('Desempenho'),x='Cargo',y='Média Salario',title='Média salarial por desempenho',color='Desempenho',barmode='group',text_auto=True,color_discrete_map={'1-Alto':'blue','2-Dentro':'green','3-Abaixo':'red'})\n",
    "        # valor_max_y = df_cargo_avaliacao['Média Salario'].max()*1.1\n",
    "        fig2.update_traces(marker_line_color='rgb(0,0,0)',marker_line_width=2,opacity=0.8)\n",
    "\n",
    "    return fig2\n",
    "\n",
    "\n",
    "if __name__ == '__main__':\n",
    "    app.run_server(debug=True)"
   ]
  }
 ],
 "metadata": {
  "kernelspec": {
   "display_name": "Python 3",
   "language": "python",
   "name": "python3"
  },
  "language_info": {
   "codemirror_mode": {
    "name": "ipython",
    "version": 3
   },
   "file_extension": ".py",
   "mimetype": "text/x-python",
   "name": "python",
   "nbconvert_exporter": "python",
   "pygments_lexer": "ipython3",
   "version": "3.12.1"
  }
 },
 "nbformat": 4,
 "nbformat_minor": 2
}
